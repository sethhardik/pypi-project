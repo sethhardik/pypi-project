{
 "cells": [
  {
   "cell_type": "code",
   "execution_count": 16,
   "metadata": {},
   "outputs": [
    {
     "data": {
      "text/plain": [
       "'vR1O1bI4Huw'"
      ]
     },
     "execution_count": 16,
     "metadata": {},
     "output_type": "execute_result"
    }
   ],
   "source": [
    "url1 = \"https://www.youtube.com/watch?v=vR1O1bI4Huw\"\n",
    "url1.split(\"=\")[-1]"
   ]
  },
  {
   "cell_type": "code",
   "execution_count": 3,
   "metadata": {},
   "outputs": [],
   "source": [
    "url1 = \"https://youtu.be/TrfmV-4acw8?t=204\"\n",
    "from IPYNBrendertest.youtube import render_Youtube_video\n"
   ]
  },
  {
   "cell_type": "code",
   "execution_count": 4,
   "metadata": {},
   "outputs": [
    {
     "name": "stdout",
     "output_type": "stream",
     "text": [
      "[2023-01-21 04:21:41,540: INFO: youtube]: video starts at:204\n",
      "[2023-01-21 04:21:41,541: INFO: youtube]: embed url: https://www.youtube.com/embed/TrfmV-4acw8?start=204\n"
     ]
    },
    {
     "data": {
      "text/html": [
       "<iframe width=\"780\" height=\"600\" \n",
       "            src=\"https://www.youtube.com/embed/TrfmV-4acw8?start=204\" \n",
       "            title=\"Youtube video layer\" \n",
       "            frameborder=\"0\" \n",
       "            allow=\"accelerometer; autoplay; \n",
       "            clipboard-write; encrypted-media; \n",
       "            gyroscope; picture-in-picture\" \n",
       "            allowfullscreen>\n",
       "            </iframe>\n",
       "            "
      ],
      "text/plain": [
       "<IPython.core.display.HTML object>"
      ]
     },
     "metadata": {},
     "output_type": "display_data"
    },
    {
     "name": "stdout",
     "output_type": "stream",
     "text": [
      "success\n"
     ]
    }
   ],
   "source": [
    "\n",
    "print((render_Youtube_video(url1)))"
   ]
  },
  {
   "cell_type": "code",
   "execution_count": null,
   "metadata": {},
   "outputs": [],
   "source": []
  }
 ],
 "metadata": {
  "kernelspec": {
   "display_name": "Python 3",
   "language": "python",
   "name": "python3"
  },
  "language_info": {
   "codemirror_mode": {
    "name": "ipython",
    "version": 3
   },
   "file_extension": ".py",
   "mimetype": "text/x-python",
   "name": "python",
   "nbconvert_exporter": "python",
   "pygments_lexer": "ipython3",
   "version": "3.8.16"
  },
  "orig_nbformat": 4,
  "vscode": {
   "interpreter": {
    "hash": "68586fcb8ebd902debc29987eb2d1af1e51369b3db781d53df2c0a2d43dba4cf"
   }
  }
 },
 "nbformat": 4,
 "nbformat_minor": 2
}
